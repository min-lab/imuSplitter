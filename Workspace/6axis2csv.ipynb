{
 "cells": [
  {
   "cell_type": "markdown",
   "metadata": {
    "execution": {
     "iopub.execute_input": "2020-05-06T06:40:03.719741Z",
     "iopub.status.busy": "2020-05-06T06:40:03.718742Z",
     "iopub.status.idle": "2020-05-06T06:40:04.142516Z",
     "shell.execute_reply": "2020-05-06T06:40:04.142516Z",
     "shell.execute_reply.started": "2020-05-06T06:40:03.719741Z"
    }
   },
   "source": [
    "## Physics Toolbox Sensor Suite 6軸IMU數據切割程式"
   ]
  },
  {
   "cell_type": "markdown",
   "metadata": {},
   "source": [
    "### 1.匯入函式庫"
   ]
  },
  {
   "cell_type": "code",
   "execution_count": null,
   "metadata": {},
   "outputs": [],
   "source": [
    "#繪圖\n",
    "from bokeh.models import Span\n",
    "from bokeh.plotting import figure, output_file, save\n",
    "#數據分析\n",
    "import pandas as pd\n",
    "#資料搜索\n",
    "import glob\n",
    "import os\n",
    "#建立Excel檔\n",
    "from pyexcelerate import Workbook\n",
    "#建立資料夾\n",
    "from pathlib import Path\n",
    "#建立壓縮檔\n",
    "from zipfile import ZipFile\n",
    "#獲得本日時間\n",
    "from datetime import date"
   ]
  },
  {
   "cell_type": "markdown",
   "metadata": {},
   "source": [
    "### 2.宣告輸出資料夾及不需要處理的檔案"
   ]
  },
  {
   "cell_type": "code",
   "execution_count": null,
   "metadata": {},
   "outputs": [],
   "source": [
    "today = date.today()\n",
    "o_dir = \"./\" + today.strftime(\"%Y%m%d\") + \"/\" #預設為本日時間，可自行設定，ex: o_dir = \"./xxx/\"\n",
    "skip_file = [] #跳過不需要處理的csv檔，ex: skip_file = [\"xxx.csv\"]"
   ]
  },
  {
   "cell_type": "markdown",
   "metadata": {},
   "source": [
    "### 3.1 定義切割數據函式"
   ]
  },
  {
   "cell_type": "code",
   "execution_count": null,
   "metadata": {},
   "outputs": [],
   "source": [
    "def cut_data(data_df):\n",
    "    fragment = []\n",
    "    silence = False\n",
    "    data_filtered = (data_df[\"ax\"] < 0.3) & (data_df[\"ax\"] > -0.3)\n",
    "    cnt = 0\n",
    "    for idx in range(len(data_filtered)):\n",
    "        if data_filtered[idx]:\n",
    "            cnt = cnt + 1\n",
    "            wave = 0\n",
    "        else:\n",
    "            wave = wave + 1\n",
    "            if wave > 15:\n",
    "                cnt = 0\n",
    "                if silence:\n",
    "                    fragment.append(idx - 1)\n",
    "                    silence = False\n",
    "        if cnt > 300:\n",
    "            silence = True\n",
    "            if idx == len(data_filtered)-1:\n",
    "                fragment.append(idx)\n",
    "    silence = False\n",
    "    data_filtered = (data_df[\"ax\"] < 0.3) & (data_df[\"ax\"] > -0.3)\n",
    "    cnt = 0\n",
    "    for idx in reversed(range(len(data_filtered))):\n",
    "        if data_filtered[idx]:\n",
    "            cnt = cnt + 1\n",
    "            wave = 0\n",
    "        else:\n",
    "            wave = wave + 1\n",
    "            if wave > 15:\n",
    "                cnt = 0\n",
    "                if silence:\n",
    "                    fragment.append(idx + 1)\n",
    "                    silence = False\n",
    "        if cnt > 300:\n",
    "            silence = True\n",
    "            if idx == 0:\n",
    "                fragment.append(idx)\n",
    "    fragment.sort()\n",
    "    return fragment"
   ]
  },
  {
   "cell_type": "markdown",
   "metadata": {
    "execution": {
     "iopub.execute_input": "2020-05-06T14:30:42.210722Z",
     "iopub.status.busy": "2020-05-06T14:30:42.200728Z",
     "iopub.status.idle": "2020-05-06T14:30:42.218721Z",
     "shell.execute_reply": "2020-05-06T14:30:42.217719Z",
     "shell.execute_reply.started": "2020-05-06T14:30:42.209723Z"
    }
   },
   "source": [
    "### 3.2定義顯示波型函式"
   ]
  },
  {
   "cell_type": "code",
   "execution_count": null,
   "metadata": {},
   "outputs": [],
   "source": [
    "def write_image_full(data_df, fragment, write_path):\n",
    "    p = figure(\n",
    "        title=\"origin\",\n",
    "        x_axis_label=\"time\",\n",
    "        y_axis_label=\"ax\",\n",
    "        plot_width=1500,\n",
    "        plot_height=800,\n",
    "    )\n",
    "    p.line(data_df.time, data_df.ax, legend_label=\"Amplitude\", line_width=2)\n",
    "    for idx in fragment:\n",
    "        line = data_df.time[idx]\n",
    "        vline = Span(\n",
    "            location=line,\n",
    "            dimension=\"height\",\n",
    "            line_color=\"red\",\n",
    "            line_dash=\"dashed\",\n",
    "            line_width=2,\n",
    "        )\n",
    "        p.add_layout(vline)\n",
    "    output_file(write_path)\n",
    "    save(p)"
   ]
  },
  {
   "cell_type": "code",
   "execution_count": null,
   "metadata": {},
   "outputs": [],
   "source": [
    "def write_image_part(data_df, fragment, idx, write_path):\n",
    "    p = figure(\n",
    "        title=\"origin\",\n",
    "        x_axis_label=\"time\",\n",
    "        y_axis_label=\"ax\",\n",
    "        plot_width=1500,\n",
    "        plot_height=800,\n",
    "    )\n",
    "    start = fragment[idx]\n",
    "    end = fragment[idx + 3]\n",
    "    p.line(data_df.time[start:end], data_df.ax[start:end], legend_label=\"Amplitude\", line_width=2)\n",
    "    output_file(write_path)\n",
    "    save(p)"
   ]
  },
  {
   "cell_type": "markdown",
   "metadata": {},
   "source": [
    "### 4.切割資料、輸出excel檔及壓縮成zip檔"
   ]
  },
  {
   "cell_type": "code",
   "execution_count": null,
   "metadata": {},
   "outputs": [],
   "source": [
    "print(\"[Create folder] \" + o_dir)\n",
    "print(\"-\"*60)\n",
    "Path(o_dir).mkdir(parents=True, exist_ok=True)\n",
    "for files in glob.glob('*.csv'):\n",
    "    print(\"[Create folder] \" + o_dir + files[:-4])\n",
    "    Path(o_dir + files[:-4]).mkdir(parents=True, exist_ok=True)\n",
    "    data = pd.read_csv(files).drop(columns=['Unnamed: 7'])\n",
    "    file_cnt = 0\n",
    "    wb = Workbook()\n",
    "    if files in skip_file:\n",
    "        write_image_full(data, fragment, o_dir + files[:-4] + \"_full.html\")\n",
    "        print(\"[Write] \" + o_dir + files[:-4] + \".xlsx, sheet_name:\" + \"raw\")\n",
    "        output_data = [\n",
    "                data.columns.tolist(),\n",
    "            ] + data.values.tolist()\n",
    "        wb.new_sheet(\"raw\", data=output_data)\n",
    "        wb.save(o_dir + files[:-4] + \".xlsx\")\n",
    "        print(\"-\"*60)\n",
    "    else:\n",
    "        fragment = cut_data(data)\n",
    "        write_image_full(data, fragment, o_dir + files[:-4] + \"_full.html\")\n",
    "        for idx in range(0, len(fragment) - 2, 2):\n",
    "            file_cnt = file_cnt + 1\n",
    "            write_image_part(data, fragment, idx, o_dir + files[:-4] +\"/part_\" + str(file_cnt) + \".html\")\n",
    "            print(\"[Write] \" + o_dir + files[:-4] + \".xlsx, sheet_name:\" + \"part_\" + str(file_cnt))\n",
    "            file_idx_s = fragment[idx]\n",
    "            file_idx_e = fragment[idx + 3]\n",
    "            output_data = [\n",
    "                data[file_idx_s:file_idx_e].columns.tolist(),\n",
    "            ] + data[file_idx_s:file_idx_e].values.tolist()\n",
    "            wb.new_sheet(\"raw_\" + str(file_cnt), data=output_data)\n",
    "            wb.save(o_dir + files[:-4] + \".xlsx\")\n",
    "        print(\"-\"*60)\n",
    "print(\"[Compression folder] \" + o_dir[:-1])\n",
    "with ZipFile(o_dir[:-1] + \".zip\", 'w') as zfile:\n",
    "    for root, dirs, files in os.walk(o_dir):\n",
    "        for file in files:\n",
    "            zfile.write(os.path.join(root, file))\n",
    "print(\"-\"*60)\n",
    "print(\"[Done]\")"
   ]
  },
  {
   "cell_type": "code",
   "execution_count": null,
   "metadata": {},
   "outputs": [],
   "source": []
  }
 ],
 "metadata": {
  "kernelspec": {
   "display_name": "Python [conda env:Sci]",
   "language": "python",
   "name": "conda-env-Sci-py"
  },
  "language_info": {
   "codemirror_mode": {
    "name": "ipython",
    "version": 3
   },
   "file_extension": ".py",
   "mimetype": "text/x-python",
   "name": "python",
   "nbconvert_exporter": "python",
   "pygments_lexer": "ipython3",
   "version": "3.7.7"
  }
 },
 "nbformat": 4,
 "nbformat_minor": 4
}
